{
 "cells": [
  {
   "cell_type": "code",
   "execution_count": 49,
   "metadata": {},
   "outputs": [],
   "source": [
    "import matplotlib.pyplot as plt\n",
    "import numpy as np\n",
    "import pandas as pd\n",
    "import tensorflow as tf\n",
    "from tensorflow import keras\n",
    "from tensorflow.keras import layers\n",
    "import cv2\n",
    "import os\n",
    "import math"
   ]
  },
  {
   "cell_type": "code",
   "execution_count": 24,
   "metadata": {},
   "outputs": [
    {
     "name": "stdout",
     "output_type": "stream",
     "text": [
      "2.8.0\n"
     ]
    }
   ],
   "source": [
    "print(tf.__version__)"
   ]
  },
  {
   "cell_type": "code",
   "execution_count": 44,
   "metadata": {},
   "outputs": [],
   "source": [
    "    def makeImageFolder():\n",
    "        path = r\"C:\\Users\\sebbe\\Desktop\\MED-local\\P6ContentAwareEditing\\dataset\"\n",
    "        print('her er path: ', path)\n",
    "        directory = os.listdir(path)\n",
    "        print(\"directory\", directory)\n",
    "        \n",
    "        images = []\n",
    "\n",
    "        for image in range(0, len(directory) - 1):\n",
    "            print(\"image: \", directory[image])\n",
    "            # print(\"path: \", str(path) + '\\\\' + str(pathDir[image]))\n",
    "            # print(\"next image: \", pathDir[image])\n",
    "            # print(\"len\", len(pathDir))\n",
    "            \n",
    "            temp = cv2.imread(str(path) + '\\\\' + str(directory[image]), cv2.IMREAD_COLOR)\n",
    "            rescale_dimensions = (128, 128)\n",
    "            rescaled_image = cv2.resize(temp, rescale_dimensions, interpolation=cv2.INTER_AREA)\n",
    "            rescaled_image = cv2.cvtColor(rescaled_image, cv2.COLOR_BGR2RGB)\n",
    "            images.append(rescaled_image)\n",
    "            \n",
    "        \n",
    "        return images\n"
   ]
  },
  {
   "cell_type": "code",
   "execution_count": 45,
   "metadata": {},
   "outputs": [
    {
     "name": "stdout",
     "output_type": "stream",
     "text": [
      "her er path:  C:\\Users\\sebbe\\Desktop\\MED-local\\P6ContentAwareEditing\\dataset\n",
      "directory ['1.jpg', '10.jpg', '100.jpg', '11.jpg', '12.jpg', '13.jpg', '14.jpg', '15.jpg', '16.jpg', '17.JPG', '18.JPG', '19.JPG', '2.jpg', '20.JPG', '21.jpg', '22.JPG', '23.jpg', '24.jpg', '25.JPG', '26.jpg', '27.jpg', '28.jpg', '29.jpg', '3.jpg', '30.jpg', '31.jpg', '32.jpg', '33.jpg', '34.jpg', '35.jpg', '36.jpg', '37.jpg', '38.jpg', '39.jpg', '4.jpg', '40.jpg', '41.jpg', '42.jpg', '43.jpg', '44.jpg', '45.jpg', '46.jpg', '47.jpg', '48.jpg', '49.jpg', '5.jpg', '50.jpg', '51.jpg', '52.jpg', '53.jpg', '54.jpg', '55.jpg', '56.JPG', '57.JPG', '58.JPG', '59.JPG', '6.jpg', '60.JPG', '61.JPG', '62.JPG', '63.JPG', '64.JPG', '65.JPG', '66.JPG', '67.JPG', '68.JPG', '69.JPG', '7.jpg', '70.JPG', '71.JPG', '72.jpg', '73.jpg', '74.jpg', '75.jpg', '76.JPG', '77.JPG', '78.JPG', '79.JPG', '8.jpg', '80.JPG', '81.jpg', '82.jpg', '83.jpg', '84.jpg', '85.jpg', '86.jpg', '87.jpg', '88.jpg', '89.jpg', '9.jpg', '90.jpg', '91.jpg', '92.jpg', '93.jpg', '94.jpg', '95.jpg', '96.jpg', '97.jpg', '98.jpg', '99.jpg', 'Dataset - Ark1.csv']\n",
      "image:  1.jpg\n",
      "image:  10.jpg\n",
      "image:  100.jpg\n",
      "image:  11.jpg\n",
      "image:  12.jpg\n",
      "image:  13.jpg\n",
      "image:  14.jpg\n",
      "image:  15.jpg\n",
      "image:  16.jpg\n",
      "image:  17.JPG\n",
      "image:  18.JPG\n",
      "image:  19.JPG\n",
      "image:  2.jpg\n",
      "image:  20.JPG\n",
      "image:  21.jpg\n",
      "image:  22.JPG\n",
      "image:  23.jpg\n",
      "image:  24.jpg\n",
      "image:  25.JPG\n",
      "image:  26.jpg\n",
      "image:  27.jpg\n",
      "image:  28.jpg\n",
      "image:  29.jpg\n",
      "image:  3.jpg\n",
      "image:  30.jpg\n",
      "image:  31.jpg\n",
      "image:  32.jpg\n",
      "image:  33.jpg\n",
      "image:  34.jpg\n",
      "image:  35.jpg\n",
      "image:  36.jpg\n",
      "image:  37.jpg\n",
      "image:  38.jpg\n",
      "image:  39.jpg\n",
      "image:  4.jpg\n",
      "image:  40.jpg\n",
      "image:  41.jpg\n",
      "image:  42.jpg\n",
      "image:  43.jpg\n",
      "image:  44.jpg\n",
      "image:  45.jpg\n",
      "image:  46.jpg\n",
      "image:  47.jpg\n",
      "image:  48.jpg\n",
      "image:  49.jpg\n",
      "image:  5.jpg\n",
      "image:  50.jpg\n",
      "image:  51.jpg\n",
      "image:  52.jpg\n",
      "image:  53.jpg\n",
      "image:  54.jpg\n",
      "image:  55.jpg\n",
      "image:  56.JPG\n",
      "image:  57.JPG\n",
      "image:  58.JPG\n",
      "image:  59.JPG\n",
      "image:  6.jpg\n",
      "image:  60.JPG\n",
      "image:  61.JPG\n",
      "image:  62.JPG\n",
      "image:  63.JPG\n",
      "image:  64.JPG\n",
      "image:  65.JPG\n",
      "image:  66.JPG\n",
      "image:  67.JPG\n",
      "image:  68.JPG\n",
      "image:  69.JPG\n",
      "image:  7.jpg\n",
      "image:  70.JPG\n",
      "image:  71.JPG\n",
      "image:  72.jpg\n",
      "image:  73.jpg\n",
      "image:  74.jpg\n",
      "image:  75.jpg\n",
      "image:  76.JPG\n",
      "image:  77.JPG\n",
      "image:  78.JPG\n",
      "image:  79.JPG\n",
      "image:  8.jpg\n",
      "image:  80.JPG\n",
      "image:  81.jpg\n",
      "image:  82.jpg\n",
      "image:  83.jpg\n",
      "image:  84.jpg\n",
      "image:  85.jpg\n",
      "image:  86.jpg\n",
      "image:  87.jpg\n",
      "image:  88.jpg\n",
      "image:  89.jpg\n",
      "image:  9.jpg\n",
      "image:  90.jpg\n",
      "image:  91.jpg\n",
      "image:  92.jpg\n",
      "image:  93.jpg\n",
      "image:  94.jpg\n",
      "image:  95.jpg\n",
      "image:  96.jpg\n",
      "image:  97.jpg\n",
      "image:  98.jpg\n",
      "image:  99.jpg\n"
     ]
    }
   ],
   "source": [
    "imageFolder = makeImageFolder()"
   ]
  },
  {
   "cell_type": "code",
   "execution_count": 48,
   "metadata": {},
   "outputs": [
    {
     "name": "stdout",
     "output_type": "stream",
     "text": [
      "100\n",
      "(128, 128, 3)\n"
     ]
    }
   ],
   "source": [
    "print(len(imageFolder))\n",
    "print(imageFolder[0].shape)\n",
    "\n",
    "\n",
    "    "
   ]
  },
  {
   "cell_type": "code",
   "execution_count": 67,
   "metadata": {},
   "outputs": [],
   "source": [
    "def getTrainingData(imagedir):\n",
    "    trainingData = []\n",
    "    for index in range(0, math.floor(len(imagedir)*0.80)):\n",
    "        trainingData.append(imagedir[index])\n",
    "    print(\"Training data size: \", len(trainingData))\n",
    "    return trainingData"
   ]
  },
  {
   "cell_type": "code",
   "execution_count": 70,
   "metadata": {},
   "outputs": [],
   "source": [
    "def getTestData(imagedir):\n",
    "    testData = []\n",
    "    for index in range(math.floor(len(imagedir)*0.80), math.floor(len(imagedir))):\n",
    "        testData.append(imagedir[index])\n",
    "    print(\"Test data size: \", len(testData))\n",
    "    return testData"
   ]
  },
  {
   "cell_type": "code",
   "execution_count": 53,
   "metadata": {},
   "outputs": [
    {
     "name": "stdout",
     "output_type": "stream",
     "text": [
      "[26 17  9]\n"
     ]
    }
   ],
   "source": [
    "print(imageFolder[0][1][1])"
   ]
  },
  {
   "cell_type": "code",
   "execution_count": 73,
   "metadata": {},
   "outputs": [
    {
     "name": "stdout",
     "output_type": "stream",
     "text": [
      "file;  C:\\Users\\sebbe\\Desktop\\MED-local\\P6ContentAwareEditing\\dataset\\train.csv\n",
      "[1.5, 1.2, 1.2, 1.3, 1.4, 1.3, 1.0, 1.35, 0.7, 1.2, 1.2, 1.5, 1.1, 1.3, 0.8, 1.1, 1.2, 1.2, 1.3, 1.3, 1.25, 1.3, 1.1, 1.1, 1.5, 1.15, 1.0, 1.3, 1.3, 1.0, 1.2, 1.2, 1.5, 1.4, 1.3, 1.2, 1.1, 1.2, 1.3, 1.2, 1.2, 1.1, 1.2, 1.1, 1.1, 0.7, 0.8, 1.0, 0.8, 0.8, 0.8, 0.8, 0.9, 1.0, 0.9, 1.3, 1.2, 1.2, 1.3, 1.2, 1.3, 1.3, 1.2, 1.3]\n",
      "Training data size:  80\n",
      "Training data size:  80\n",
      "Test data size:  20\n",
      "Test data size:  20\n"
     ]
    }
   ],
   "source": [
    "path = r\"C:\\Users\\sebbe\\Desktop\\MED-local\\P6ContentAwareEditing\\dataset\"\n",
    "directory = os.listdir(path)\n",
    "for root, dir, files in os.walk(path):\n",
    "    if \"train.csv\" in files:\n",
    "        file = os.path.join(root, \"train.csv\")\n",
    "        print(\"file; \", file)\n",
    "    else: print(\"Not found\")\n",
    "    \n",
    "Labels = np.loadtxt(file)\n",
    "print(trainLabels)\n",
    "\n",
    "trainLabels = getTrainingData(Labels)\n",
    "trainImages = getTrainingData(imageFolder)\n",
    "\n",
    "testLabels = getTestData(Labels)\n",
    "testImages = getTestData(imageFolder)\n",
    "\n"
   ]
  }
 ],
 "metadata": {
  "kernelspec": {
   "display_name": "Python 3",
   "language": "python",
   "name": "python3"
  },
  "language_info": {
   "codemirror_mode": {
    "name": "ipython",
    "version": 3
   },
   "file_extension": ".py",
   "mimetype": "text/x-python",
   "name": "python",
   "nbconvert_exporter": "python",
   "pygments_lexer": "ipython3",
   "version": "3.8.3"
  }
 },
 "nbformat": 4,
 "nbformat_minor": 4
}
